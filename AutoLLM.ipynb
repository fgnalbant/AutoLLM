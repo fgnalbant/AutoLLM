{
  "cells": [
    {
      "cell_type": "markdown",
      "metadata": {
        "id": "view-in-github",
        "colab_type": "text"
      },
      "source": [
        "<a href=\"https://colab.research.google.com/github/fgnalbant/AutoLLM/blob/main/AutoLLM.ipynb\" target=\"_parent\"><img src=\"https://colab.research.google.com/assets/colab-badge.svg\" alt=\"Open In Colab\"/></a>"
      ]
    },
    {
      "cell_type": "code",
      "source": [
        "# @title\n",
        "from IPython.display import HTML\n",
        "html_code = \"\"\"\n",
        "<div style=\"display: flex; justify-content: space-between; align-items: flex-start;\">\n",
        "    <div style=\"text-align: left;\">\n",
        "        <h4 style=\"color:#4B0082; font-weight: bold; text-align: left; margin-top: 6px;\">Gizem Nalbant Arslan</h4>\n",
        "        <h4 style=\"color:#000000; font-weight: normal; text-align: left; margin-top: 6px;\">Data scientist who loves to draw insights using the power of data and is always ready to explore new horizons in the world of machine learning.</h4>\n",
        "        <p style=\"font-size: 17px; line-height: 1.7; color: #333; text-align: center; margin-top: 20px;\"></p>\n",
        "        <a href=\"https://www.linkedin.com/in/gizem-nalbant-arslan/\" target=\"_blank\" style=\"display: inline-block; background-color: #003f88; color: #fff; text-decoration: none; padding: 5px 10px; border-radius: 10px; margin: 15px;\">LinkedIn</a>\n",
        "        <a href=\"https://github.com/fgnalbant\" target=\"_blank\" style=\"display: inline-block; background-color: #8b8970; color: #fff; text-decoration: none; padding: 5px 10px; border-radius: 10px; margin: 15px; \">GitHub</a>\n",
        "        <a href=\"https://www.kaggle.com/gizemnalbantarslan\" target=\"_blank\" style=\"display: inline-block; background-color: #3a86ff; color: #fff; text-decoration: none; padding: 5px 10px; border-radius: 10px; margin: 15px;\">Kaggle</a>\n",
        "    </div>\n",
        "</div>\n",
        "\n",
        "\"\"\"\n",
        "display(HTML(html_code))"
      ],
      "metadata": {
        "colab": {
          "base_uri": "https://localhost:8080/",
          "height": 141
        },
        "id": "2qBqVa0SyBkI",
        "outputId": "a1305c95-1961-4d97-eaa3-40174dd48e88"
      },
      "execution_count": 40,
      "outputs": [
        {
          "output_type": "display_data",
          "data": {
            "text/plain": [
              "<IPython.core.display.HTML object>"
            ],
            "text/html": [
              "\n",
              "<div style=\"display: flex; justify-content: space-between; align-items: flex-start;\">\n",
              "    <div style=\"text-align: left;\">\n",
              "        <h4 style=\"color:#4B0082; font-weight: bold; text-align: left; margin-top: 6px;\">Gizem Nalbant Arslan</h4>\n",
              "        <h4 style=\"color:#000000; font-weight: normal; text-align: left; margin-top: 6px;\">Data scientist who loves to draw insights using the power of data and is always ready to explore new horizons in the world of machine learning.</h4>\n",
              "        <p style=\"font-size: 17px; line-height: 1.7; color: #333; text-align: center; margin-top: 20px;\"></p>\n",
              "        <a href=\"https://www.linkedin.com/in/gizem-nalbant-arslan/\" target=\"_blank\" style=\"display: inline-block; background-color: #003f88; color: #fff; text-decoration: none; padding: 5px 10px; border-radius: 10px; margin: 15px;\">LinkedIn</a>\n",
              "        <a href=\"https://github.com/fgnalbant\" target=\"_blank\" style=\"display: inline-block; background-color: #8b8970; color: #fff; text-decoration: none; padding: 5px 10px; border-radius: 10px; margin: 15px; \">GitHub</a>\n",
              "        <a href=\"https://www.kaggle.com/gizemnalbantarslan\" target=\"_blank\" style=\"display: inline-block; background-color: #3a86ff; color: #fff; text-decoration: none; padding: 5px 10px; border-radius: 10px; margin: 15px;\">Kaggle</a>\n",
              "    </div>\n",
              "</div>\n",
              "\n"
            ]
          },
          "metadata": {}
        }
      ]
    },
    {
      "cell_type": "code",
      "source": [
        "!pip install autollm gradio gitpython nbconvert -Uqq"
      ],
      "metadata": {
        "colab": {
          "base_uri": "https://localhost:8080/"
        },
        "id": "u2x1HQysZgYK",
        "outputId": "8b23cf32-8a3f-45c7-8a7e-8a1b11e99f6e"
      },
      "execution_count": null,
      "outputs": [
        {
          "output_type": "stream",
          "name": "stdout",
          "text": [
            "\u001b[?25l   \u001b[90m━━━━━━━━━━━━━━━━━━━━━━━━━━━━━━━━━━━━━━━━\u001b[0m \u001b[32m0.0/47.1 kB\u001b[0m \u001b[31m?\u001b[0m eta \u001b[36m-:--:--\u001b[0m\r\u001b[2K   \u001b[90m━━━━━━━━━━━━━━━━━━━━━━━━━━━━━━━━━━━━━━━━\u001b[0m \u001b[32m47.1/47.1 kB\u001b[0m \u001b[31m2.3 MB/s\u001b[0m eta \u001b[36m0:00:00\u001b[0m\n",
            "\u001b[2K   \u001b[90m━━━━━━━━━━━━━━━━━━━━━━━━━━━━━━━━━━━━━━━━\u001b[0m \u001b[32m78.4/78.4 kB\u001b[0m \u001b[31m7.8 MB/s\u001b[0m eta \u001b[36m0:00:00\u001b[0m\n",
            "\u001b[2K   \u001b[90m━━━━━━━━━━━━━━━━━━━━━━━━━━━━━━━━━━━━━━━━\u001b[0m \u001b[32m2.4/2.4 MB\u001b[0m \u001b[31m14.6 MB/s\u001b[0m eta \u001b[36m0:00:00\u001b[0m\n",
            "\u001b[2K   \u001b[90m━━━━━━━━━━━━━━━━━━━━━━━━━━━━━━━━━━━━━━━━\u001b[0m \u001b[32m15.8/15.8 MB\u001b[0m \u001b[31m13.6 MB/s\u001b[0m eta \u001b[36m0:00:00\u001b[0m\n",
            "\u001b[2K   \u001b[90m━━━━━━━━━━━━━━━━━━━━━━━━━━━━━━━━━━━━━━━━\u001b[0m \u001b[32m19.2/19.2 MB\u001b[0m \u001b[31m13.5 MB/s\u001b[0m eta \u001b[36m0:00:00\u001b[0m\n",
            "\u001b[2K   \u001b[90m━━━━━━━━━━━━━━━━━━━━━━━━━━━━━━━━━━━━━━━━\u001b[0m \u001b[32m57.6/57.6 MB\u001b[0m \u001b[31m10.5 MB/s\u001b[0m eta \u001b[36m0:00:00\u001b[0m\n",
            "\u001b[2K   \u001b[90m━━━━━━━━━━━━━━━━━━━━━━━━━━━━━━━━━━━━━━━━\u001b[0m \u001b[32m321.4/321.4 kB\u001b[0m \u001b[31m29.9 MB/s\u001b[0m eta \u001b[36m0:00:00\u001b[0m\n",
            "\u001b[2K   \u001b[90m━━━━━━━━━━━━━━━━━━━━━━━━━━━━━━━━━━━━━━━━\u001b[0m \u001b[32m94.8/94.8 kB\u001b[0m \u001b[31m10.5 MB/s\u001b[0m eta \u001b[36m0:00:00\u001b[0m\n",
            "\u001b[2K   \u001b[90m━━━━━━━━━━━━━━━━━━━━━━━━━━━━━━━━━━━━━━━━\u001b[0m \u001b[32m12.4/12.4 MB\u001b[0m \u001b[31m103.5 MB/s\u001b[0m eta \u001b[36m0:00:00\u001b[0m\n",
            "\u001b[2K   \u001b[90m━━━━━━━━━━━━━━━━━━━━━━━━━━━━━━━━━━━━━━━━\u001b[0m \u001b[32m73.2/73.2 kB\u001b[0m \u001b[31m7.6 MB/s\u001b[0m eta \u001b[36m0:00:00\u001b[0m\n",
            "\u001b[2K   \u001b[90m━━━━━━━━━━━━━━━━━━━━━━━━━━━━━━━━━━━━━━━━\u001b[0m \u001b[32m62.3/62.3 kB\u001b[0m \u001b[31m6.5 MB/s\u001b[0m eta \u001b[36m0:00:00\u001b[0m\n",
            "\u001b[2K   \u001b[90m━━━━━━━━━━━━━━━━━━━━━━━━━━━━━━━━━━━━━━━━\u001b[0m \u001b[32m162.5/162.5 kB\u001b[0m \u001b[31m16.7 MB/s\u001b[0m eta \u001b[36m0:00:00\u001b[0m\n",
            "\u001b[2K   \u001b[90m━━━━━━━━━━━━━━━━━━━━━━━━━━━━━━━━━━━━━━━━\u001b[0m \u001b[32m1.2/1.2 MB\u001b[0m \u001b[31m58.5 MB/s\u001b[0m eta \u001b[36m0:00:00\u001b[0m\n",
            "\u001b[2K   \u001b[90m━━━━━━━━━━━━━━━━━━━━━━━━━━━━━━━━━━━━━━━━\u001b[0m \u001b[32m49.6/49.6 kB\u001b[0m \u001b[31m5.2 MB/s\u001b[0m eta \u001b[36m0:00:00\u001b[0m\n",
            "\u001b[2K   \u001b[90m━━━━━━━━━━━━━━━━━━━━━━━━━━━━━━━━━━━━━━━━\u001b[0m \u001b[32m98.7/98.7 kB\u001b[0m \u001b[31m10.7 MB/s\u001b[0m eta \u001b[36m0:00:00\u001b[0m\n",
            "\u001b[?25h"
          ]
        }
      ]
    },
    {
      "cell_type": "code",
      "source": [
        "from autollm import AutoQueryEngine\n",
        "from autollm.utils.document_reading import read_github_repo_as_documents, read_files_as_documents\n",
        "import os\n",
        "import gradio as gr"
      ],
      "metadata": {
        "id": "hWF6mW7WaVjQ"
      },
      "execution_count": null,
      "outputs": []
    },
    {
      "cell_type": "code",
      "source": [
        "from google.colab import userdata\n",
        "os.environ[\"OPENAI_API_KEY\"] = userdata.get('open_ai_key')"
      ],
      "metadata": {
        "id": "XqMyd88gcL37"
      },
      "execution_count": null,
      "outputs": []
    },
    {
      "cell_type": "code",
      "source": [
        "# <p style=\"background-color: #4b0b4e; font-family: 'Verdana', sans-serif; font-size: 28px; text-align: center; color: #f7f7f7; padding: 20px; border-radius: 50px; text-shadow: 3px 3px 8px rgba(0, 0, 0, 0.6); border: 4px solid #ff6f61; box-shadow: 0 4px 15px rgba(0, 0, 0, 0.5);\">Read Files and Documents</p>"
      ],
      "metadata": {
        "id": "q-YatktYOPlV"
      },
      "execution_count": null,
      "outputs": []
    },
    {
      "cell_type": "code",
      "source": [
        "# @title\n",
        "html_code = \"\"\"\n",
        "# <p style=\"background-color: #63b8ff; font-family: 'Verdana', sans-serif; font-size: 28px; text-align: center; color: #ffffff; padding: 20px; border-radius: 50px; text-shadow: 3px 3px 8px rgba(0, 0, 0, 0.6); border: 4px solid #104e8b; box-shadow: 0 4px 15px rgba(0, 0, 0, 0.5);\">Read Files and Documents</p>\n",
        "\"\"\"\n",
        "display(HTML(html_code))\n",
        "\n"
      ],
      "metadata": {
        "colab": {
          "base_uri": "https://localhost:8080/",
          "height": 129
        },
        "id": "EwLAeKP8uir3",
        "outputId": "02803296-6c3a-4feb-fdae-af45b979947d"
      },
      "execution_count": 41,
      "outputs": [
        {
          "output_type": "display_data",
          "data": {
            "text/plain": [
              "<IPython.core.display.HTML object>"
            ],
            "text/html": [
              "\n",
              "# <p style=\"background-color: #63b8ff; font-family: 'Verdana', sans-serif; font-size: 28px; text-align: center; color: #ffffff; padding: 20px; border-radius: 50px; text-shadow: 3px 3px 8px rgba(0, 0, 0, 0.6); border: 4px solid #104e8b; box-shadow: 0 4px 15px rgba(0, 0, 0, 0.5);\">Read Files and Documents</p>\n"
            ]
          },
          "metadata": {}
        }
      ]
    },
    {
      "cell_type": "markdown",
      "source": [
        "## Read Files and Documents"
      ],
      "metadata": {
        "id": "kbU1COZjRhNw"
      }
    },
    {
      "cell_type": "code",
      "source": [
        "git_repo_url = \"https://github.com/langchain-ai/langchain.git\"\n",
        "required_exts = [\".md\"]"
      ],
      "metadata": {
        "id": "Q0QU3HdOdyDO"
      },
      "execution_count": null,
      "outputs": []
    },
    {
      "cell_type": "code",
      "source": [
        "documents = read_github_repo_as_documents(git_repo_url=git_repo_url, relative_folder_path=\"docs\", required_exts=required_exts)"
      ],
      "metadata": {
        "colab": {
          "base_uri": "https://localhost:8080/"
        },
        "id": "_PewcuiTd2eD",
        "outputId": "9e989482-a863-4f84-ac86-0c97482f1fd4"
      },
      "execution_count": null,
      "outputs": [
        {
          "output_type": "stream",
          "name": "stderr",
          "text": [
            "2025-01-19 17:46:25,657 - autollm - INFO - Cloning github repo https://github.com/langchain-ai/langchain.git into temporary directory autollm/temp..\n",
            "2025-01-19 17:47:01,883 - autollm - INFO - Reading files from autollm/temp/docs..\n",
            "Loading files: 100%|██████████| 23/23 [00:00<00:00, 1992.42file/s]\n",
            "2025-01-19 17:47:01,907 - autollm - INFO - Found 23 'document(s)'.\n",
            "2025-01-19 17:47:01,910 - autollm - INFO - Operations complete, deleting temporary directory autollm/temp..\n"
          ]
        }
      ]
    },
    {
      "cell_type": "code",
      "source": [
        "# @title\n",
        "html_code = \"\"\"\n",
        "# <p style=\"background-color: #63b8ff; font-family: 'Verdana', sans-serif; font-size: 28px; text-align: center; color: #ffffff; padding: 20px; border-radius: 50px; text-shadow: 3px 3px 8px rgba(0, 0, 0, 0.6); border: 4px solid #104e8b; box-shadow: 0 4px 15px rgba(0, 0, 0, 0.5);\">AutoQueryEngine</p>\n",
        "\"\"\"\n",
        "display(HTML(html_code))"
      ],
      "metadata": {
        "colab": {
          "base_uri": "https://localhost:8080/",
          "height": 129
        },
        "id": "Mp24Z_wDxj8A",
        "outputId": "5f1c3185-39ed-4315-8e50-cfc690a2fd35"
      },
      "execution_count": 42,
      "outputs": [
        {
          "output_type": "display_data",
          "data": {
            "text/plain": [
              "<IPython.core.display.HTML object>"
            ],
            "text/html": [
              "\n",
              "# <p style=\"background-color: #63b8ff; font-family: 'Verdana', sans-serif; font-size: 28px; text-align: center; color: #ffffff; padding: 20px; border-radius: 50px; text-shadow: 3px 3px 8px rgba(0, 0, 0, 0.6); border: 4px solid #104e8b; box-shadow: 0 4px 15px rgba(0, 0, 0, 0.5);\">AutoQueryEngine</p>\n"
            ]
          },
          "metadata": {}
        }
      ]
    },
    {
      "cell_type": "markdown",
      "source": [
        "## AutoQueryEngine"
      ],
      "metadata": {
        "id": "T0PRmH1pRoyG"
      }
    },
    {
      "cell_type": "code",
      "source": [
        "query_engine = AutoQueryEngine.from_defaults(documents=documents)"
      ],
      "metadata": {
        "colab": {
          "base_uri": "https://localhost:8080/",
          "height": 244,
          "referenced_widgets": [
            "2cb308222d8d4881a1a578c9561688b3",
            "8dc5b7b218624371851148173d47edc9",
            "52113d4ee3e14032a8e3f82cd549b36b",
            "90127458049545fea8a3ac50f4a7b59e",
            "111c0bb563014ec0b4245546dbbf1877",
            "fd4f8f8cf69e46be8002b259933652ab",
            "16f7d55366e04b00a35c6e3a77d2cd89",
            "e8118b519fae44f8a5de41b9e30ca50d",
            "51a1c7aa77b24bb3a536b041555eabd3",
            "68eb0917a7aa4666be019fdb48842f1d",
            "ced9622ee6bf40ac81cac03e9f1e2275",
            "3e8051569c074872b5dc1e4200a9c870",
            "81c7018c5e684498b70543624d258065",
            "71adb344da064e10a3078bc8b8531526",
            "1617f2869dd84e3aaadf6eb3fbab0a61",
            "7dc645a895444c0eb37f54e749f9fd7d",
            "2823d7b6efdc4f04bd81e6c2bc9cc132",
            "c2fdcf98fe2245ec877aa169e384621e",
            "ba9deec878404c8b83c49bba4c3fa0ac",
            "8f02f55f4a6f42c1901a44726c336e6f",
            "7451e398e15949ea82e4f694c5222b56",
            "b8ab8f4d3a6c4ec29ab3979ec717be33"
          ]
        },
        "id": "vM6VwASbeNgk",
        "outputId": "6794a0c8-6f6b-4a9e-be7b-d2ce09084f85"
      },
      "execution_count": null,
      "outputs": [
        {
          "output_type": "stream",
          "name": "stderr",
          "text": [
            "2025-01-19 19:43:57,597 - autollm - WARNING - use_async is only supported for SimpleVectorStore. Ignoring use_async.\n",
            "2025-01-19 19:43:57,601 - autollm - INFO - Existing database found. Creating a new database at ./.lancedb_1.\n",
            "2025-01-19 19:43:57,604 - autollm - INFO - Please use exist_ok=True to add to the existing database and overwrite_existing=True to overwrite the existing database.\n"
          ]
        },
        {
          "output_type": "display_data",
          "data": {
            "text/plain": [
              "Parsing nodes:   0%|          | 0/23 [00:00<?, ?it/s]"
            ],
            "application/vnd.jupyter.widget-view+json": {
              "version_major": 2,
              "version_minor": 0,
              "model_id": "2cb308222d8d4881a1a578c9561688b3"
            }
          },
          "metadata": {}
        },
        {
          "output_type": "display_data",
          "data": {
            "text/plain": [
              "Generating embeddings:   0%|          | 0/46 [00:00<?, ?it/s]"
            ],
            "application/vnd.jupyter.widget-view+json": {
              "version_major": 2,
              "version_minor": 0,
              "model_id": "3e8051569c074872b5dc1e4200a9c870"
            }
          },
          "metadata": {}
        },
        {
          "output_type": "stream",
          "name": "stderr",
          "text": [
            "2025-01-19 19:44:03,009 - autollm - INFO - Embedding Token Usage: 3224\n",
            "2025-01-19 19:44:09,389 - autollm - INFO - Embedding Token Usage: 3013\n",
            "2025-01-19 19:44:12,622 - autollm - INFO - Embedding Token Usage: 4211\n",
            "2025-01-19 19:44:16,723 - autollm - INFO - Embedding Token Usage: 4561\n",
            "2025-01-19 19:44:18,547 - autollm - INFO - Embedding Token Usage: 1440\n"
          ]
        }
      ]
    },
    {
      "cell_type": "code",
      "source": [
        "system_prompt = \"You are an AI assitant that helps users find the most relevant and accurate answers to their questions.\"\n",
        "\n",
        "query_wrapper_prompt = \"\"\"\n",
        "The document information is below.\n",
        "-------------------------------\n",
        "{context_str}\n",
        "-------------------------------\n",
        "Using the document information and mostly relying on it,\n",
        "answer the query.\n",
        "Query: {query_str}\n",
        "Answer:\n",
        "\"\"\""
      ],
      "metadata": {
        "id": "mf2jGeNE-D1-"
      },
      "execution_count": null,
      "outputs": []
    },
    {
      "cell_type": "code",
      "source": [
        "enable_cost_calculator = True"
      ],
      "metadata": {
        "id": "j_OfA6a2-EBs"
      },
      "execution_count": null,
      "outputs": []
    },
    {
      "cell_type": "code",
      "source": [
        "model = \"gpt-4o-mini\""
      ],
      "metadata": {
        "id": "Wq5p-PIb-EGF"
      },
      "execution_count": null,
      "outputs": []
    },
    {
      "cell_type": "code",
      "source": [
        "vector_store_type = \"LanceDBVectorStore\""
      ],
      "metadata": {
        "id": "tHahuOIK-EI8"
      },
      "execution_count": null,
      "outputs": []
    },
    {
      "cell_type": "code",
      "source": [
        "uri= \"tmp/lancedb\"\n",
        "table_name = \"vectors\""
      ],
      "metadata": {
        "id": "1w1z5I0U-SLq"
      },
      "execution_count": null,
      "outputs": []
    },
    {
      "cell_type": "code",
      "source": [
        "chunk_size = 1024"
      ],
      "metadata": {
        "id": "j0CGSgGS-SQ3"
      },
      "execution_count": null,
      "outputs": []
    },
    {
      "cell_type": "code",
      "source": [
        "similarity_top_k = 5"
      ],
      "metadata": {
        "id": "5IeZVesX-SVS"
      },
      "execution_count": null,
      "outputs": []
    },
    {
      "cell_type": "code",
      "source": [
        "llm_params = {\"model\": model}"
      ],
      "metadata": {
        "id": "cIngEJ1d-Yf1"
      },
      "execution_count": null,
      "outputs": []
    },
    {
      "cell_type": "code",
      "source": [
        "vector_store_params = {\"vector_store_type\": vector_store_type, \"uri\":uri, \"table_name\":table_name}"
      ],
      "metadata": {
        "id": "taLy4wyy-YjO"
      },
      "execution_count": null,
      "outputs": []
    },
    {
      "cell_type": "code",
      "source": [
        "service_context_params = {\"chunk_size\": chunk_size}"
      ],
      "metadata": {
        "id": "MZB9rMQa-YmF"
      },
      "execution_count": null,
      "outputs": []
    },
    {
      "cell_type": "code",
      "source": [
        "query_engine_params = {\"similarity_top_k\": similarity_top_k}"
      ],
      "metadata": {
        "id": "SZxpJKl6-Yo8"
      },
      "execution_count": null,
      "outputs": []
    },
    {
      "cell_type": "code",
      "source": [
        "query_engine_new = AutoQueryEngine.from_defaults(documents=documents, system_prompt=system_prompt, query_wrapper_prompt=query_wrapper_prompt, enable_cost_calculator=enable_cost_calculator, llm_params=llm_params, vector_store_params = vector_store_params, service_context_params=service_context_params, query_engine_params=query_engine_params)"
      ],
      "metadata": {
        "id": "GQ1PdYn9-iG7",
        "colab": {
          "base_uri": "https://localhost:8080/",
          "height": 244,
          "referenced_widgets": [
            "93337091a95a47f6a5199c9dee22a1e5",
            "e6ad9a82e80a406bb2e6e393f16ea3c4",
            "7ea1ee134091464c864e8904c4006ca8",
            "f8a209c24a7642bdb8e781212ffe5a16",
            "bc95f082591d459694e5fd246a5b8763",
            "d7363b257a754334b857306efb099759",
            "6df8d8f75df743c896e4a9d48676f461",
            "11ff08228eea4db2bbd0a68d89d41d6d",
            "fd9848635a8a4ad293eeff1ca99aba09",
            "f1d815bc06034026a348075f0b31f822",
            "01b449605c9c4745acf4aaba2774ad16",
            "bcb0da8a3ec84faf92c8c83c75ecbc38",
            "58c7ad835ed84d59b5f4dbaab9f08973",
            "baba72096a954f278c6fac6548a4ebd7",
            "840942b6f1c7438283d64949575d03bd",
            "fa0ef2a5128f48faae65035c149b11b5",
            "e668ca131f404e189e97ef678d6c5adc",
            "ae3c7ed73c7340e39f045c8a63d9902e",
            "272f42fc2597413baba0b26d88407458",
            "0f0639edb9004b40a9c195ce52e91767",
            "8d0e83642bdf4be2a211ad4f128a7a92",
            "8bfe45594aaa48fc9a17be4f5f4902f7"
          ]
        },
        "outputId": "30110a23-244e-4934-d16e-dc9ccdb57032"
      },
      "execution_count": null,
      "outputs": [
        {
          "output_type": "stream",
          "name": "stderr",
          "text": [
            "2025-01-19 19:45:23,880 - autollm - WARNING - use_async is only supported for SimpleVectorStore. Ignoring use_async.\n",
            "2025-01-19 19:45:23,884 - autollm - INFO - Existing database found. Creating a new database at ./.lancedb_2.\n",
            "2025-01-19 19:45:23,888 - autollm - INFO - Please use exist_ok=True to add to the existing database and overwrite_existing=True to overwrite the existing database.\n"
          ]
        },
        {
          "output_type": "display_data",
          "data": {
            "text/plain": [
              "Parsing nodes:   0%|          | 0/23 [00:00<?, ?it/s]"
            ],
            "application/vnd.jupyter.widget-view+json": {
              "version_major": 2,
              "version_minor": 0,
              "model_id": "93337091a95a47f6a5199c9dee22a1e5"
            }
          },
          "metadata": {}
        },
        {
          "output_type": "display_data",
          "data": {
            "text/plain": [
              "Generating embeddings:   0%|          | 0/46 [00:00<?, ?it/s]"
            ],
            "application/vnd.jupyter.widget-view+json": {
              "version_major": 2,
              "version_minor": 0,
              "model_id": "bcb0da8a3ec84faf92c8c83c75ecbc38"
            }
          },
          "metadata": {}
        },
        {
          "output_type": "stream",
          "name": "stderr",
          "text": [
            "2025-01-19 19:45:27,363 - autollm - INFO - Embedding Token Usage: 3224\n",
            "2025-01-19 19:45:30,638 - autollm - INFO - Embedding Token Usage: 3013\n",
            "2025-01-19 19:45:35,522 - autollm - INFO - Embedding Token Usage: 4211\n",
            "2025-01-19 19:45:38,612 - autollm - INFO - Embedding Token Usage: 4561\n",
            "2025-01-19 19:45:40,543 - autollm - INFO - Embedding Token Usage: 1440\n"
          ]
        }
      ]
    },
    {
      "cell_type": "code",
      "source": [
        "# @title\n",
        "html_code = \"\"\"\n",
        "# <p style=\"background-color: #63b8ff; font-family: 'Verdana', sans-serif; font-size: 28px; text-align: center; color: #ffffff; padding: 20px; border-radius: 50px; text-shadow: 3px 3px 8px rgba(0, 0, 0, 0.6); border: 4px solid #104e8b; box-shadow: 0 4px 15px rgba(0, 0, 0, 0.5);\">Ask Your Question</p>\n",
        "\"\"\"\n",
        "display(HTML(html_code))"
      ],
      "metadata": {
        "colab": {
          "base_uri": "https://localhost:8080/",
          "height": 129
        },
        "id": "geOITXHexr3S",
        "outputId": "493507e9-7840-47d8-e4ad-7f71dee7b4d4"
      },
      "execution_count": 43,
      "outputs": [
        {
          "output_type": "display_data",
          "data": {
            "text/plain": [
              "<IPython.core.display.HTML object>"
            ],
            "text/html": [
              "\n",
              "# <p style=\"background-color: #63b8ff; font-family: 'Verdana', sans-serif; font-size: 28px; text-align: center; color: #ffffff; padding: 20px; border-radius: 50px; text-shadow: 3px 3px 8px rgba(0, 0, 0, 0.6); border: 4px solid #104e8b; box-shadow: 0 4px 15px rgba(0, 0, 0, 0.5);\">Ask Your Question</p>\n"
            ]
          },
          "metadata": {}
        }
      ]
    },
    {
      "cell_type": "markdown",
      "source": [
        "## Ask Your Question"
      ],
      "metadata": {
        "id": "y9ydVej5Rs5q"
      }
    },
    {
      "cell_type": "code",
      "source": [
        "response = query_engine_new.query(\"What do we mean by Chain in Langchain?\")"
      ],
      "metadata": {
        "id": "cAQNyMSJ-iK2",
        "colab": {
          "base_uri": "https://localhost:8080/"
        },
        "outputId": "e730459e-4f57-481b-9d8c-3544482cdbc3"
      },
      "execution_count": null,
      "outputs": [
        {
          "output_type": "stream",
          "name": "stderr",
          "text": [
            "2025-01-19 19:45:45,603 - autollm - INFO - Embedding Token Usage: 10\n",
            "2025-01-19 19:45:47,150 - autollm - INFO - LLM Prompt Token Usage: 3\n",
            "2025-01-19 19:45:47,152 - autollm - INFO - LLM Completion Token Usage: 3\n",
            "2025-01-19 19:45:47,155 - autollm - INFO - LLM Latest Token Cost: $0.0000\n",
            "2025-01-19 19:45:47,157 - autollm - INFO - LLM Total Token Cost: $0.0000\n"
          ]
        }
      ]
    },
    {
      "cell_type": "code",
      "source": [
        "response"
      ],
      "metadata": {
        "id": "Znh0CMz3-iQV",
        "colab": {
          "base_uri": "https://localhost:8080/"
        },
        "outputId": "f65df833-582f-4afe-e0f6-60084f90ef85"
      },
      "execution_count": null,
      "outputs": [
        {
          "output_type": "execute_result",
          "data": {
            "text/plain": [
              "Response(response='In Langchain, a \"Chain\" refers to a sequence of tools or agents that are connected together to perform a specific task or workflow. These chains can include various components such as AI models, data processing tools, and other functionalities that work together to achieve a desired outcome. Chains in Langchain enable users to create complex workflows by chaining together different tools and agents to automate processes, analyze data, or generate insights.', source_nodes=[NodeWithScore(node=TextNode(id_='28dc9cdd-c5b0-462d-abf7-7aa6218420eb', embedding=None, metadata={}, excluded_embed_metadata_keys=[], excluded_llm_metadata_keys=[], relationships={<NodeRelationship.SOURCE: '1'>: RelatedNodeInfo(node_id='autollm/temp/docs/README.md_part_0', node_type=None, metadata={}, hash=None)}, hash='f80e4e0d114fd6c5489eab0793776d4447c85337265048b6f0c2dbef060b1616', text='# LangChain Documentation\\n\\nFor more information on contributing to our documentation, see the Documentation Contributing Guide', start_char_idx=None, end_char_idx=None, text_template='{metadata_str}\\n\\n{content}', metadata_template='{key}: {value}', metadata_seperator='\\n'), score=0.6625553965568542), NodeWithScore(node=TextNode(id_='55a0d87b-b818-4b39-b388-dc713a1003b8', embedding=None, metadata={}, excluded_embed_metadata_keys=[], excluded_llm_metadata_keys=[], relationships={<NodeRelationship.SOURCE: '1'>: RelatedNodeInfo(node_id='autollm/temp/docs/docs/how_to/pydantic_compatibility.md_part_0', node_type=None, metadata={}, hash=None)}, hash='27d57e0c5a47b27022d88ac269eda10b6e3bc454294fc0caccb2ee48158df864', text=\"# How to use LangChain with different Pydantic versions\\n\\nAs of the `0.3` release, LangChain uses Pydantic 2 internally. \\n\\nUsers should install Pydantic 2 and are advised to **avoid** using the `pydantic.v1` namespace of Pydantic 2 with\\nLangChain APIs.\\n\\nIf you're working with prior versions of LangChain, please see the following guide\\non Pydantic compatibility.\", start_char_idx=None, end_char_idx=None, text_template='{metadata_str}\\n\\n{content}', metadata_template='{key}: {value}', metadata_seperator='\\n'), score=0.6334732174873352), NodeWithScore(node=TextNode(id_='a6bd385a-e010-4806-b201-725d25b79eaf', embedding=None, metadata={}, excluded_embed_metadata_keys=[], excluded_llm_metadata_keys=[], relationships={<NodeRelationship.SOURCE: '1'>: RelatedNodeInfo(node_id='autollm/temp/docs/docs/integrations/providers/portkey/index.md_part_0', node_type=None, metadata={}, hash=None)}, hash='34fc756c58988e580c88acb773bfde009cadd5c439e3bdf1faf0bca6d7c9542b', text='```\\n\\nThe Portkey AI gateway will authenticate the API request to Anthropic and get the response back in the OpenAI format for you to consume.\\n\\nThe AI gateway extends Langchain\\'s `ChatOpenAI` class making it a single interface to call any provider and any model.\\n\\n## Advanced Routing - Load Balancing, Fallbacks, Retries\\nThe Portkey AI Gateway brings capabilities like load-balancing, fallbacks, experimentation and canary testing to Langchain through a configuration-first approach.\\n\\nLet\\'s take an **example** where we might want to split traffic between `gpt-4` and `claude-opus` 50:50 to test the two large models. The gateway configuration for this would look like the following:\\n\\n```python\\nconfig = {\\n    \"strategy\": {\\n         \"mode\": \"loadbalance\"\\n    },\\n    \"targets\": [{\\n        \"virtual_key\": \"openai-25654\", # OpenAI\\'s virtual key\\n        \"override_params\": {\"model\": \"gpt4\"},\\n        \"weight\": 0.5\\n    }, {\\n        \"virtual_key\": \"anthropic-25654\", # Anthropic\\'s virtual key\\n        \"override_params\": {\"model\": \"claude-3-opus-20240229\"},\\n        \"weight\": 0.5\\n    }]\\n}\\n```\\n\\nWe can then use this config in our requests being made from langchain.\\n\\n```python\\nportkey_headers = createHeaders(\\n    api_key=PORTKEY_API_KEY,\\n    config=config\\n)\\n\\nllm = ChatOpenAI(api_key=\"X\", base_url=PORTKEY_GATEWAY_URL, default_headers=portkey_headers)\\n\\nllm.invoke(\"What is the meaning of life, universe and everything?\")\\n```\\n\\nWhen the LLM is invoked, Portkey will distribute the requests to `gpt-4` and `claude-3-opus-20240229` in the ratio of the defined weights.\\n\\nYou can find more config examples here.\\n\\n## **Tracing Chains & Agents**\\n\\nPortkey\\'s Langchain integration gives you full visibility into the running of an agent. Let\\'s take an example of a popular agentic workflow.\\n\\nWe only need to modify the `ChatOpenAI` class to use the AI Gateway as above.', start_char_idx=None, end_char_idx=None, text_template='{metadata_str}\\n\\n{content}', metadata_template='{key}: {value}', metadata_seperator='\\n'), score=0.6079348921775818), NodeWithScore(node=TextNode(id_='b235bea2-5c6d-4d2e-a477-853ed4b72eff', embedding=None, metadata={}, excluded_embed_metadata_keys=[], excluded_llm_metadata_keys=[], relationships={<NodeRelationship.SOURCE: '1'>: RelatedNodeInfo(node_id='autollm/temp/docs/docs/integrations/providers/portkey/index.md_part_0', node_type=None, metadata={}, hash=None)}, hash='7bf325203c4ca9baecacea4244de97835c15ac9579170394de5d40fae396213b', text='```python\\nportkey_headers = createHeaders(\\n    api_key=PORTKEY_API_KEY,\\n    config=config\\n)\\n\\nllm = ChatOpenAI(api_key=\"X\", base_url=PORTKEY_GATEWAY_URL, default_headers=portkey_headers)\\n\\nllm.invoke(\"What is the meaning of life, universe and everything?\")\\n```\\n\\nWhen the LLM is invoked, Portkey will distribute the requests to `gpt-4` and `claude-3-opus-20240229` in the ratio of the defined weights.\\n\\nYou can find more config examples here.\\n\\n## **Tracing Chains & Agents**\\n\\nPortkey\\'s Langchain integration gives you full visibility into the running of an agent. Let\\'s take an example of a popular agentic workflow.\\n\\nWe only need to modify the `ChatOpenAI` class to use the AI Gateway as above.\\n\\n```python\\nfrom langchain import hub  \\nfrom langchain.agents import AgentExecutor, create_openai_tools_agent  \\nfrom langchain_openai import ChatOpenAI\\nfrom langchain_core.tools import tool\\nfrom portkey_ai import PORTKEY_GATEWAY_URL, createHeaders\\n \\nprompt = hub.pull(\"hwchase17/openai-tools-agent\")\\n\\nportkey_headers = createHeaders(\\n    api_key=PORTKEY_API_KEY,\\n    virtual_key=OPENAI_VIRTUAL_KEY,\\n    trace_id=\"uuid-uuid-uuid-uuid\"\\n)\\n\\n@tool\\ndef multiply(first_int: int, second_int: int) -> int:\\n    \"\"\"Multiply two integers together.\"\"\"\\n    return first_int * second_int\\n  \\n  \\n@tool  \\ndef exponentiate(base: int, exponent: int) -> int:  \\n    \"Exponentiate the base to the exponent power.\"', start_char_idx=None, end_char_idx=None, text_template='{metadata_str}\\n\\n{content}', metadata_template='{key}: {value}', metadata_seperator='\\n'), score=0.6063792705535889), NodeWithScore(node=TextNode(id_='db8ef29a-0ac5-46b5-a9a7-66f1178de465', embedding=None, metadata={}, excluded_embed_metadata_keys=[], excluded_llm_metadata_keys=[], relationships={<NodeRelationship.SOURCE: '1'>: RelatedNodeInfo(node_id='autollm/temp/docs/docs/integrations/providers/portkey/index.md_part_0', node_type=None, metadata={}, hash=None)}, hash='8c20fdb0e4c0c91e063b2892aa4a00f72c8a914bdabcb3d08b400b85a432b581', text='# Portkey\\n\\nPortkey is the Control Panel for AI apps. With it\\'s popular AI Gateway and Observability Suite, hundreds of teams ship **reliable**, **cost-efficient**, and **fast** apps.\\n\\n## LLMOps for Langchain\\n\\nPortkey brings production readiness to Langchain. With Portkey, you can \\n- [x] Connect to 150+ models through a unified API,\\n- [x] View 42+ **metrics & logs** for all requests, \\n- [x] Enable **semantic cache** to reduce latency & costs, \\n- [x] Implement automatic **retries & fallbacks** for failed requests, \\n- x] Add **custom tags** to requests for better tracking and analysis and [more.\\n\\n\\n## Quickstart - Portkey & Langchain\\nSince Portkey is fully compatible with the OpenAI signature, you can connect to the Portkey AI Gateway through the `ChatOpenAI` interface.\\n\\n- Set the `base_url` as `PORTKEY_GATEWAY_URL`\\n- Add `default_headers` to consume the headers needed by Portkey using the `createHeaders` helper method.\\n\\nTo start, get your Portkey API key by signing up here. (Click the profile icon on the bottom left, then click on \"Copy API Key\") or deploy the open source AI gateway in your own environment.\\n\\nNext, install the Portkey SDK\\n```python\\npip install -U portkey_ai\\n```\\n\\nWe can now connect to the Portkey AI Gateway by updating the `ChatOpenAI` model in Langchain\\n```python\\nfrom langchain_openai import ChatOpenAI\\nfrom portkey_ai import createHeaders, PORTKEY_GATEWAY_URL\\n\\nPORTKEY_API_KEY = \"...\" # Not needed when hosting your own gateway\\nPROVIDER_API_KEY = \"...\" # Add the API key of the AI provider being used \\n\\nportkey_headers = createHeaders(api_key=PORTKEY_API_KEY,provider=\"openai\")\\n\\nllm = ChatOpenAI(api_key=PROVIDER_API_KEY, base_url=PORTKEY_GATEWAY_URL, default_headers=portkey_headers)\\n\\nllm.invoke(\"What is the meaning of life, universe and everything?\")\\n```\\n\\nThe request is routed through your Portkey AI Gateway to the specified `provider`. Portkey will also start logging all the requests in your account that makes debugging extremely simple.', start_char_idx=None, end_char_idx=None, text_template='{metadata_str}\\n\\n{content}', metadata_template='{key}: {value}', metadata_seperator='\\n'), score=0.5980753898620605), NodeWithScore(node=TextNode(id_='2f4cd13c-a2b9-4806-be3e-c39b87a88c78', embedding=None, metadata={}, excluded_embed_metadata_keys=[], excluded_llm_metadata_keys=[], relationships={<NodeRelationship.SOURCE: '1'>: RelatedNodeInfo(node_id='autollm/temp/docs/docs/integrations/providers/databricks.md_part_0', node_type=None, metadata={}, hash=None)}, hash='92fe56f3794cdbeb7631382957e2f4459f98709e37a4f35c01431632d4c53ce1', text=\"Databricks\\n==========\\n\\n> Databricks Intelligence Platform is the world's first data intelligence platform powered by generative AI. Infuse AI into every facet of your business.\\n\\nDatabricks embraces the LangChain ecosystem in various ways:\\n\\n1. 🚀 **Model Serving** - Access state-of-the-art LLMs, such as DBRX, Llama3, Mixtral, or your fine-tuned models on Databricks Model Serving, via a highly available and low-latency inference endpoint. LangChain provides LLM (`Databricks`), Chat Model (`ChatDatabricks`), and Embeddings (`DatabricksEmbeddings`) implementations, streamlining the integration of your models hosted on Databricks Model Serving with your LangChain applications.\\n2. 📃 **Vector Search** - Databricks Vector Search is a serverless vector database seamlessly integrated within the Databricks Platform. Using `DatabricksVectorSearch`, you can incorporate the highly scalable and reliable similarity search engine into your LangChain applications.\\n3. 📊 **MLflow** - MLflow is an open-source platform to manage full the ML lifecycle, including experiment management, evaluation, tracing, deployment, and more. MLflow's LangChain Integration streamlines the process of developing and operating modern compound ML systems.\\n4. 🌐 **SQL Database** - Databricks SQL is integrated with `SQLDatabase` in LangChain, allowing you to access the auto-optimizing, exceptionally performant data warehouse.\\n5. 💡 **Open Models** - Databricks open sources models, such as DBRX, which are available through the Hugging Face Hub. These models can be directly utilized with LangChain, leveraging its integration with the `transformers` library.\\n\\nInstallation\\n------------\\n\\nFirst-party Databricks integrations are now available in the databricks-langchain partner package.\\n\\n```\\npip install databricks-langchain\\n```\\n\\nThe legacy langchain-databricks partner package is still available but will be soon deprecated. \\n\\nChat Model\\n----------\\n\\n`ChatDatabricks` is a Chat Model class to access chat endpoints hosted on Databricks, including state-of-the-art models such as Llama3, Mixtral, and DBRX, as well as your own fine-tuned models.\", start_char_idx=None, end_char_idx=None, text_template='{metadata_str}\\n\\n{content}', metadata_template='{key}: {value}', metadata_seperator='\\n'), score=0.595996081829071)], metadata={'28dc9cdd-c5b0-462d-abf7-7aa6218420eb': {}, '55a0d87b-b818-4b39-b388-dc713a1003b8': {}, 'a6bd385a-e010-4806-b201-725d25b79eaf': {}, 'b235bea2-5c6d-4d2e-a477-853ed4b72eff': {}, 'db8ef29a-0ac5-46b5-a9a7-66f1178de465': {}, '2f4cd13c-a2b9-4806-be3e-c39b87a88c78': {}})"
            ]
          },
          "metadata": {},
          "execution_count": 27
        }
      ]
    },
    {
      "cell_type": "code",
      "source": [
        "print(response.response)"
      ],
      "metadata": {
        "id": "3javTZRC-0pc",
        "colab": {
          "base_uri": "https://localhost:8080/"
        },
        "outputId": "ebf4d605-c8e8-4698-dff6-d26eed40954c"
      },
      "execution_count": null,
      "outputs": [
        {
          "output_type": "stream",
          "name": "stdout",
          "text": [
            "In Langchain, a \"Chain\" refers to a sequence of tools or agents that are connected together to perform a specific task or workflow. These chains can include various components such as AI models, data processing tools, and other functionalities that work together to achieve a desired outcome. Chains in Langchain enable users to create complex workflows by chaining together different tools and agents to automate processes, analyze data, or generate insights.\n"
          ]
        }
      ]
    },
    {
      "cell_type": "code",
      "source": [
        "import gradio as gr\n",
        "def chat_function(query):\n",
        "  return query_engine.query(query).response"
      ],
      "metadata": {
        "id": "22vlGeiD-3hU"
      },
      "execution_count": null,
      "outputs": []
    },
    {
      "cell_type": "code",
      "source": [
        "# @title\n",
        "html_code = \"\"\"\n",
        "# <p style=\"background-color: #63b8ff; font-family: 'Verdana', sans-serif; font-size: 28px; text-align: center; color: #ffffff; padding: 20px; border-radius: 50px; text-shadow: 3px 3px 8px rgba(0, 0, 0, 0.6); border: 4px solid #104e8b; box-shadow: 0 4px 15px rgba(0, 0, 0, 0.5);\">Demo</p>\n",
        "\"\"\"\n",
        "display(HTML(html_code))"
      ],
      "metadata": {
        "colab": {
          "base_uri": "https://localhost:8080/",
          "height": 129
        },
        "id": "2km2Gutnx15O",
        "outputId": "75c67433-67db-4545-ce9a-76b93895df96"
      },
      "execution_count": 44,
      "outputs": [
        {
          "output_type": "display_data",
          "data": {
            "text/plain": [
              "<IPython.core.display.HTML object>"
            ],
            "text/html": [
              "\n",
              "# <p style=\"background-color: #63b8ff; font-family: 'Verdana', sans-serif; font-size: 28px; text-align: center; color: #ffffff; padding: 20px; border-radius: 50px; text-shadow: 3px 3px 8px rgba(0, 0, 0, 0.6); border: 4px solid #104e8b; box-shadow: 0 4px 15px rgba(0, 0, 0, 0.5);\">Demo</p>\n"
            ]
          },
          "metadata": {}
        }
      ]
    },
    {
      "cell_type": "markdown",
      "source": [
        "## Demo"
      ],
      "metadata": {
        "id": "dOMMMPsYRwoy"
      }
    },
    {
      "cell_type": "code",
      "source": [
        "demo = gr.Interface(fn=chat_function, inputs=\"text\", outputs = \"text\")\n",
        "demo.launch(share=True)"
      ],
      "metadata": {
        "id": "Pba2-OFl-6wB",
        "colab": {
          "base_uri": "https://localhost:8080/",
          "height": 612
        },
        "outputId": "e966d7dc-abc1-480c-e088-948c19542818"
      },
      "execution_count": null,
      "outputs": [
        {
          "output_type": "stream",
          "name": "stdout",
          "text": [
            "Colab notebook detected. To show errors in colab notebook, set debug=True in launch()\n",
            "* Running on public URL: https://f70a80c9b81efd1a85.gradio.live\n",
            "\n",
            "This share link expires in 72 hours. For free permanent hosting and GPU upgrades, run `gradio deploy` from the terminal in the working directory to deploy to Hugging Face Spaces (https://huggingface.co/spaces)\n"
          ]
        },
        {
          "output_type": "display_data",
          "data": {
            "text/plain": [
              "<IPython.core.display.HTML object>"
            ],
            "text/html": [
              "<div><iframe src=\"https://f70a80c9b81efd1a85.gradio.live\" width=\"100%\" height=\"500\" allow=\"autoplay; camera; microphone; clipboard-read; clipboard-write;\" frameborder=\"0\" allowfullscreen></iframe></div>"
            ]
          },
          "metadata": {}
        },
        {
          "output_type": "execute_result",
          "data": {
            "text/plain": []
          },
          "metadata": {},
          "execution_count": 30
        }
      ]
    }
  ],
  "metadata": {
    "colab": {
      "provenance": [],
      "toc_visible": true,
      "include_colab_link": true
    },
    "kernelspec": {
      "display_name": "Python 3",
      "name": "python3"
    },
    "widgets": {
      "application/vnd.jupyter.widget-state+json": {
        "2cb308222d8d4881a1a578c9561688b3": {
          "model_module": "@jupyter-widgets/controls",
          "model_name": "HBoxModel",
          "model_module_version": "1.5.0",
          "state": {
            "_dom_classes": [],
            "_model_module": "@jupyter-widgets/controls",
            "_model_module_version": "1.5.0",
            "_model_name": "HBoxModel",
            "_view_count": null,
            "_view_module": "@jupyter-widgets/controls",
            "_view_module_version": "1.5.0",
            "_view_name": "HBoxView",
            "box_style": "",
            "children": [
              "IPY_MODEL_8dc5b7b218624371851148173d47edc9",
              "IPY_MODEL_52113d4ee3e14032a8e3f82cd549b36b",
              "IPY_MODEL_90127458049545fea8a3ac50f4a7b59e"
            ],
            "layout": "IPY_MODEL_111c0bb563014ec0b4245546dbbf1877"
          }
        },
        "8dc5b7b218624371851148173d47edc9": {
          "model_module": "@jupyter-widgets/controls",
          "model_name": "HTMLModel",
          "model_module_version": "1.5.0",
          "state": {
            "_dom_classes": [],
            "_model_module": "@jupyter-widgets/controls",
            "_model_module_version": "1.5.0",
            "_model_name": "HTMLModel",
            "_view_count": null,
            "_view_module": "@jupyter-widgets/controls",
            "_view_module_version": "1.5.0",
            "_view_name": "HTMLView",
            "description": "",
            "description_tooltip": null,
            "layout": "IPY_MODEL_fd4f8f8cf69e46be8002b259933652ab",
            "placeholder": "​",
            "style": "IPY_MODEL_16f7d55366e04b00a35c6e3a77d2cd89",
            "value": "Parsing nodes: 100%"
          }
        },
        "52113d4ee3e14032a8e3f82cd549b36b": {
          "model_module": "@jupyter-widgets/controls",
          "model_name": "FloatProgressModel",
          "model_module_version": "1.5.0",
          "state": {
            "_dom_classes": [],
            "_model_module": "@jupyter-widgets/controls",
            "_model_module_version": "1.5.0",
            "_model_name": "FloatProgressModel",
            "_view_count": null,
            "_view_module": "@jupyter-widgets/controls",
            "_view_module_version": "1.5.0",
            "_view_name": "ProgressView",
            "bar_style": "success",
            "description": "",
            "description_tooltip": null,
            "layout": "IPY_MODEL_e8118b519fae44f8a5de41b9e30ca50d",
            "max": 23,
            "min": 0,
            "orientation": "horizontal",
            "style": "IPY_MODEL_51a1c7aa77b24bb3a536b041555eabd3",
            "value": 23
          }
        },
        "90127458049545fea8a3ac50f4a7b59e": {
          "model_module": "@jupyter-widgets/controls",
          "model_name": "HTMLModel",
          "model_module_version": "1.5.0",
          "state": {
            "_dom_classes": [],
            "_model_module": "@jupyter-widgets/controls",
            "_model_module_version": "1.5.0",
            "_model_name": "HTMLModel",
            "_view_count": null,
            "_view_module": "@jupyter-widgets/controls",
            "_view_module_version": "1.5.0",
            "_view_name": "HTMLView",
            "description": "",
            "description_tooltip": null,
            "layout": "IPY_MODEL_68eb0917a7aa4666be019fdb48842f1d",
            "placeholder": "​",
            "style": "IPY_MODEL_ced9622ee6bf40ac81cac03e9f1e2275",
            "value": " 23/23 [00:00&lt;00:00, 148.64it/s]"
          }
        },
        "111c0bb563014ec0b4245546dbbf1877": {
          "model_module": "@jupyter-widgets/base",
          "model_name": "LayoutModel",
          "model_module_version": "1.2.0",
          "state": {
            "_model_module": "@jupyter-widgets/base",
            "_model_module_version": "1.2.0",
            "_model_name": "LayoutModel",
            "_view_count": null,
            "_view_module": "@jupyter-widgets/base",
            "_view_module_version": "1.2.0",
            "_view_name": "LayoutView",
            "align_content": null,
            "align_items": null,
            "align_self": null,
            "border": null,
            "bottom": null,
            "display": null,
            "flex": null,
            "flex_flow": null,
            "grid_area": null,
            "grid_auto_columns": null,
            "grid_auto_flow": null,
            "grid_auto_rows": null,
            "grid_column": null,
            "grid_gap": null,
            "grid_row": null,
            "grid_template_areas": null,
            "grid_template_columns": null,
            "grid_template_rows": null,
            "height": null,
            "justify_content": null,
            "justify_items": null,
            "left": null,
            "margin": null,
            "max_height": null,
            "max_width": null,
            "min_height": null,
            "min_width": null,
            "object_fit": null,
            "object_position": null,
            "order": null,
            "overflow": null,
            "overflow_x": null,
            "overflow_y": null,
            "padding": null,
            "right": null,
            "top": null,
            "visibility": null,
            "width": null
          }
        },
        "fd4f8f8cf69e46be8002b259933652ab": {
          "model_module": "@jupyter-widgets/base",
          "model_name": "LayoutModel",
          "model_module_version": "1.2.0",
          "state": {
            "_model_module": "@jupyter-widgets/base",
            "_model_module_version": "1.2.0",
            "_model_name": "LayoutModel",
            "_view_count": null,
            "_view_module": "@jupyter-widgets/base",
            "_view_module_version": "1.2.0",
            "_view_name": "LayoutView",
            "align_content": null,
            "align_items": null,
            "align_self": null,
            "border": null,
            "bottom": null,
            "display": null,
            "flex": null,
            "flex_flow": null,
            "grid_area": null,
            "grid_auto_columns": null,
            "grid_auto_flow": null,
            "grid_auto_rows": null,
            "grid_column": null,
            "grid_gap": null,
            "grid_row": null,
            "grid_template_areas": null,
            "grid_template_columns": null,
            "grid_template_rows": null,
            "height": null,
            "justify_content": null,
            "justify_items": null,
            "left": null,
            "margin": null,
            "max_height": null,
            "max_width": null,
            "min_height": null,
            "min_width": null,
            "object_fit": null,
            "object_position": null,
            "order": null,
            "overflow": null,
            "overflow_x": null,
            "overflow_y": null,
            "padding": null,
            "right": null,
            "top": null,
            "visibility": null,
            "width": null
          }
        },
        "16f7d55366e04b00a35c6e3a77d2cd89": {
          "model_module": "@jupyter-widgets/controls",
          "model_name": "DescriptionStyleModel",
          "model_module_version": "1.5.0",
          "state": {
            "_model_module": "@jupyter-widgets/controls",
            "_model_module_version": "1.5.0",
            "_model_name": "DescriptionStyleModel",
            "_view_count": null,
            "_view_module": "@jupyter-widgets/base",
            "_view_module_version": "1.2.0",
            "_view_name": "StyleView",
            "description_width": ""
          }
        },
        "e8118b519fae44f8a5de41b9e30ca50d": {
          "model_module": "@jupyter-widgets/base",
          "model_name": "LayoutModel",
          "model_module_version": "1.2.0",
          "state": {
            "_model_module": "@jupyter-widgets/base",
            "_model_module_version": "1.2.0",
            "_model_name": "LayoutModel",
            "_view_count": null,
            "_view_module": "@jupyter-widgets/base",
            "_view_module_version": "1.2.0",
            "_view_name": "LayoutView",
            "align_content": null,
            "align_items": null,
            "align_self": null,
            "border": null,
            "bottom": null,
            "display": null,
            "flex": null,
            "flex_flow": null,
            "grid_area": null,
            "grid_auto_columns": null,
            "grid_auto_flow": null,
            "grid_auto_rows": null,
            "grid_column": null,
            "grid_gap": null,
            "grid_row": null,
            "grid_template_areas": null,
            "grid_template_columns": null,
            "grid_template_rows": null,
            "height": null,
            "justify_content": null,
            "justify_items": null,
            "left": null,
            "margin": null,
            "max_height": null,
            "max_width": null,
            "min_height": null,
            "min_width": null,
            "object_fit": null,
            "object_position": null,
            "order": null,
            "overflow": null,
            "overflow_x": null,
            "overflow_y": null,
            "padding": null,
            "right": null,
            "top": null,
            "visibility": null,
            "width": null
          }
        },
        "51a1c7aa77b24bb3a536b041555eabd3": {
          "model_module": "@jupyter-widgets/controls",
          "model_name": "ProgressStyleModel",
          "model_module_version": "1.5.0",
          "state": {
            "_model_module": "@jupyter-widgets/controls",
            "_model_module_version": "1.5.0",
            "_model_name": "ProgressStyleModel",
            "_view_count": null,
            "_view_module": "@jupyter-widgets/base",
            "_view_module_version": "1.2.0",
            "_view_name": "StyleView",
            "bar_color": null,
            "description_width": ""
          }
        },
        "68eb0917a7aa4666be019fdb48842f1d": {
          "model_module": "@jupyter-widgets/base",
          "model_name": "LayoutModel",
          "model_module_version": "1.2.0",
          "state": {
            "_model_module": "@jupyter-widgets/base",
            "_model_module_version": "1.2.0",
            "_model_name": "LayoutModel",
            "_view_count": null,
            "_view_module": "@jupyter-widgets/base",
            "_view_module_version": "1.2.0",
            "_view_name": "LayoutView",
            "align_content": null,
            "align_items": null,
            "align_self": null,
            "border": null,
            "bottom": null,
            "display": null,
            "flex": null,
            "flex_flow": null,
            "grid_area": null,
            "grid_auto_columns": null,
            "grid_auto_flow": null,
            "grid_auto_rows": null,
            "grid_column": null,
            "grid_gap": null,
            "grid_row": null,
            "grid_template_areas": null,
            "grid_template_columns": null,
            "grid_template_rows": null,
            "height": null,
            "justify_content": null,
            "justify_items": null,
            "left": null,
            "margin": null,
            "max_height": null,
            "max_width": null,
            "min_height": null,
            "min_width": null,
            "object_fit": null,
            "object_position": null,
            "order": null,
            "overflow": null,
            "overflow_x": null,
            "overflow_y": null,
            "padding": null,
            "right": null,
            "top": null,
            "visibility": null,
            "width": null
          }
        },
        "ced9622ee6bf40ac81cac03e9f1e2275": {
          "model_module": "@jupyter-widgets/controls",
          "model_name": "DescriptionStyleModel",
          "model_module_version": "1.5.0",
          "state": {
            "_model_module": "@jupyter-widgets/controls",
            "_model_module_version": "1.5.0",
            "_model_name": "DescriptionStyleModel",
            "_view_count": null,
            "_view_module": "@jupyter-widgets/base",
            "_view_module_version": "1.2.0",
            "_view_name": "StyleView",
            "description_width": ""
          }
        },
        "3e8051569c074872b5dc1e4200a9c870": {
          "model_module": "@jupyter-widgets/controls",
          "model_name": "HBoxModel",
          "model_module_version": "1.5.0",
          "state": {
            "_dom_classes": [],
            "_model_module": "@jupyter-widgets/controls",
            "_model_module_version": "1.5.0",
            "_model_name": "HBoxModel",
            "_view_count": null,
            "_view_module": "@jupyter-widgets/controls",
            "_view_module_version": "1.5.0",
            "_view_name": "HBoxView",
            "box_style": "",
            "children": [
              "IPY_MODEL_81c7018c5e684498b70543624d258065",
              "IPY_MODEL_71adb344da064e10a3078bc8b8531526",
              "IPY_MODEL_1617f2869dd84e3aaadf6eb3fbab0a61"
            ],
            "layout": "IPY_MODEL_7dc645a895444c0eb37f54e749f9fd7d"
          }
        },
        "81c7018c5e684498b70543624d258065": {
          "model_module": "@jupyter-widgets/controls",
          "model_name": "HTMLModel",
          "model_module_version": "1.5.0",
          "state": {
            "_dom_classes": [],
            "_model_module": "@jupyter-widgets/controls",
            "_model_module_version": "1.5.0",
            "_model_name": "HTMLModel",
            "_view_count": null,
            "_view_module": "@jupyter-widgets/controls",
            "_view_module_version": "1.5.0",
            "_view_name": "HTMLView",
            "description": "",
            "description_tooltip": null,
            "layout": "IPY_MODEL_2823d7b6efdc4f04bd81e6c2bc9cc132",
            "placeholder": "​",
            "style": "IPY_MODEL_c2fdcf98fe2245ec877aa169e384621e",
            "value": "Generating embeddings: 100%"
          }
        },
        "71adb344da064e10a3078bc8b8531526": {
          "model_module": "@jupyter-widgets/controls",
          "model_name": "FloatProgressModel",
          "model_module_version": "1.5.0",
          "state": {
            "_dom_classes": [],
            "_model_module": "@jupyter-widgets/controls",
            "_model_module_version": "1.5.0",
            "_model_name": "FloatProgressModel",
            "_view_count": null,
            "_view_module": "@jupyter-widgets/controls",
            "_view_module_version": "1.5.0",
            "_view_name": "ProgressView",
            "bar_style": "success",
            "description": "",
            "description_tooltip": null,
            "layout": "IPY_MODEL_ba9deec878404c8b83c49bba4c3fa0ac",
            "max": 46,
            "min": 0,
            "orientation": "horizontal",
            "style": "IPY_MODEL_8f02f55f4a6f42c1901a44726c336e6f",
            "value": 46
          }
        },
        "1617f2869dd84e3aaadf6eb3fbab0a61": {
          "model_module": "@jupyter-widgets/controls",
          "model_name": "HTMLModel",
          "model_module_version": "1.5.0",
          "state": {
            "_dom_classes": [],
            "_model_module": "@jupyter-widgets/controls",
            "_model_module_version": "1.5.0",
            "_model_name": "HTMLModel",
            "_view_count": null,
            "_view_module": "@jupyter-widgets/controls",
            "_view_module_version": "1.5.0",
            "_view_name": "HTMLView",
            "description": "",
            "description_tooltip": null,
            "layout": "IPY_MODEL_7451e398e15949ea82e4f694c5222b56",
            "placeholder": "​",
            "style": "IPY_MODEL_b8ab8f4d3a6c4ec29ab3979ec717be33",
            "value": " 46/46 [00:20&lt;00:00,  2.44it/s]"
          }
        },
        "7dc645a895444c0eb37f54e749f9fd7d": {
          "model_module": "@jupyter-widgets/base",
          "model_name": "LayoutModel",
          "model_module_version": "1.2.0",
          "state": {
            "_model_module": "@jupyter-widgets/base",
            "_model_module_version": "1.2.0",
            "_model_name": "LayoutModel",
            "_view_count": null,
            "_view_module": "@jupyter-widgets/base",
            "_view_module_version": "1.2.0",
            "_view_name": "LayoutView",
            "align_content": null,
            "align_items": null,
            "align_self": null,
            "border": null,
            "bottom": null,
            "display": null,
            "flex": null,
            "flex_flow": null,
            "grid_area": null,
            "grid_auto_columns": null,
            "grid_auto_flow": null,
            "grid_auto_rows": null,
            "grid_column": null,
            "grid_gap": null,
            "grid_row": null,
            "grid_template_areas": null,
            "grid_template_columns": null,
            "grid_template_rows": null,
            "height": null,
            "justify_content": null,
            "justify_items": null,
            "left": null,
            "margin": null,
            "max_height": null,
            "max_width": null,
            "min_height": null,
            "min_width": null,
            "object_fit": null,
            "object_position": null,
            "order": null,
            "overflow": null,
            "overflow_x": null,
            "overflow_y": null,
            "padding": null,
            "right": null,
            "top": null,
            "visibility": null,
            "width": null
          }
        },
        "2823d7b6efdc4f04bd81e6c2bc9cc132": {
          "model_module": "@jupyter-widgets/base",
          "model_name": "LayoutModel",
          "model_module_version": "1.2.0",
          "state": {
            "_model_module": "@jupyter-widgets/base",
            "_model_module_version": "1.2.0",
            "_model_name": "LayoutModel",
            "_view_count": null,
            "_view_module": "@jupyter-widgets/base",
            "_view_module_version": "1.2.0",
            "_view_name": "LayoutView",
            "align_content": null,
            "align_items": null,
            "align_self": null,
            "border": null,
            "bottom": null,
            "display": null,
            "flex": null,
            "flex_flow": null,
            "grid_area": null,
            "grid_auto_columns": null,
            "grid_auto_flow": null,
            "grid_auto_rows": null,
            "grid_column": null,
            "grid_gap": null,
            "grid_row": null,
            "grid_template_areas": null,
            "grid_template_columns": null,
            "grid_template_rows": null,
            "height": null,
            "justify_content": null,
            "justify_items": null,
            "left": null,
            "margin": null,
            "max_height": null,
            "max_width": null,
            "min_height": null,
            "min_width": null,
            "object_fit": null,
            "object_position": null,
            "order": null,
            "overflow": null,
            "overflow_x": null,
            "overflow_y": null,
            "padding": null,
            "right": null,
            "top": null,
            "visibility": null,
            "width": null
          }
        },
        "c2fdcf98fe2245ec877aa169e384621e": {
          "model_module": "@jupyter-widgets/controls",
          "model_name": "DescriptionStyleModel",
          "model_module_version": "1.5.0",
          "state": {
            "_model_module": "@jupyter-widgets/controls",
            "_model_module_version": "1.5.0",
            "_model_name": "DescriptionStyleModel",
            "_view_count": null,
            "_view_module": "@jupyter-widgets/base",
            "_view_module_version": "1.2.0",
            "_view_name": "StyleView",
            "description_width": ""
          }
        },
        "ba9deec878404c8b83c49bba4c3fa0ac": {
          "model_module": "@jupyter-widgets/base",
          "model_name": "LayoutModel",
          "model_module_version": "1.2.0",
          "state": {
            "_model_module": "@jupyter-widgets/base",
            "_model_module_version": "1.2.0",
            "_model_name": "LayoutModel",
            "_view_count": null,
            "_view_module": "@jupyter-widgets/base",
            "_view_module_version": "1.2.0",
            "_view_name": "LayoutView",
            "align_content": null,
            "align_items": null,
            "align_self": null,
            "border": null,
            "bottom": null,
            "display": null,
            "flex": null,
            "flex_flow": null,
            "grid_area": null,
            "grid_auto_columns": null,
            "grid_auto_flow": null,
            "grid_auto_rows": null,
            "grid_column": null,
            "grid_gap": null,
            "grid_row": null,
            "grid_template_areas": null,
            "grid_template_columns": null,
            "grid_template_rows": null,
            "height": null,
            "justify_content": null,
            "justify_items": null,
            "left": null,
            "margin": null,
            "max_height": null,
            "max_width": null,
            "min_height": null,
            "min_width": null,
            "object_fit": null,
            "object_position": null,
            "order": null,
            "overflow": null,
            "overflow_x": null,
            "overflow_y": null,
            "padding": null,
            "right": null,
            "top": null,
            "visibility": null,
            "width": null
          }
        },
        "8f02f55f4a6f42c1901a44726c336e6f": {
          "model_module": "@jupyter-widgets/controls",
          "model_name": "ProgressStyleModel",
          "model_module_version": "1.5.0",
          "state": {
            "_model_module": "@jupyter-widgets/controls",
            "_model_module_version": "1.5.0",
            "_model_name": "ProgressStyleModel",
            "_view_count": null,
            "_view_module": "@jupyter-widgets/base",
            "_view_module_version": "1.2.0",
            "_view_name": "StyleView",
            "bar_color": null,
            "description_width": ""
          }
        },
        "7451e398e15949ea82e4f694c5222b56": {
          "model_module": "@jupyter-widgets/base",
          "model_name": "LayoutModel",
          "model_module_version": "1.2.0",
          "state": {
            "_model_module": "@jupyter-widgets/base",
            "_model_module_version": "1.2.0",
            "_model_name": "LayoutModel",
            "_view_count": null,
            "_view_module": "@jupyter-widgets/base",
            "_view_module_version": "1.2.0",
            "_view_name": "LayoutView",
            "align_content": null,
            "align_items": null,
            "align_self": null,
            "border": null,
            "bottom": null,
            "display": null,
            "flex": null,
            "flex_flow": null,
            "grid_area": null,
            "grid_auto_columns": null,
            "grid_auto_flow": null,
            "grid_auto_rows": null,
            "grid_column": null,
            "grid_gap": null,
            "grid_row": null,
            "grid_template_areas": null,
            "grid_template_columns": null,
            "grid_template_rows": null,
            "height": null,
            "justify_content": null,
            "justify_items": null,
            "left": null,
            "margin": null,
            "max_height": null,
            "max_width": null,
            "min_height": null,
            "min_width": null,
            "object_fit": null,
            "object_position": null,
            "order": null,
            "overflow": null,
            "overflow_x": null,
            "overflow_y": null,
            "padding": null,
            "right": null,
            "top": null,
            "visibility": null,
            "width": null
          }
        },
        "b8ab8f4d3a6c4ec29ab3979ec717be33": {
          "model_module": "@jupyter-widgets/controls",
          "model_name": "DescriptionStyleModel",
          "model_module_version": "1.5.0",
          "state": {
            "_model_module": "@jupyter-widgets/controls",
            "_model_module_version": "1.5.0",
            "_model_name": "DescriptionStyleModel",
            "_view_count": null,
            "_view_module": "@jupyter-widgets/base",
            "_view_module_version": "1.2.0",
            "_view_name": "StyleView",
            "description_width": ""
          }
        },
        "93337091a95a47f6a5199c9dee22a1e5": {
          "model_module": "@jupyter-widgets/controls",
          "model_name": "HBoxModel",
          "model_module_version": "1.5.0",
          "state": {
            "_dom_classes": [],
            "_model_module": "@jupyter-widgets/controls",
            "_model_module_version": "1.5.0",
            "_model_name": "HBoxModel",
            "_view_count": null,
            "_view_module": "@jupyter-widgets/controls",
            "_view_module_version": "1.5.0",
            "_view_name": "HBoxView",
            "box_style": "",
            "children": [
              "IPY_MODEL_e6ad9a82e80a406bb2e6e393f16ea3c4",
              "IPY_MODEL_7ea1ee134091464c864e8904c4006ca8",
              "IPY_MODEL_f8a209c24a7642bdb8e781212ffe5a16"
            ],
            "layout": "IPY_MODEL_bc95f082591d459694e5fd246a5b8763"
          }
        },
        "e6ad9a82e80a406bb2e6e393f16ea3c4": {
          "model_module": "@jupyter-widgets/controls",
          "model_name": "HTMLModel",
          "model_module_version": "1.5.0",
          "state": {
            "_dom_classes": [],
            "_model_module": "@jupyter-widgets/controls",
            "_model_module_version": "1.5.0",
            "_model_name": "HTMLModel",
            "_view_count": null,
            "_view_module": "@jupyter-widgets/controls",
            "_view_module_version": "1.5.0",
            "_view_name": "HTMLView",
            "description": "",
            "description_tooltip": null,
            "layout": "IPY_MODEL_d7363b257a754334b857306efb099759",
            "placeholder": "​",
            "style": "IPY_MODEL_6df8d8f75df743c896e4a9d48676f461",
            "value": "Parsing nodes: 100%"
          }
        },
        "7ea1ee134091464c864e8904c4006ca8": {
          "model_module": "@jupyter-widgets/controls",
          "model_name": "FloatProgressModel",
          "model_module_version": "1.5.0",
          "state": {
            "_dom_classes": [],
            "_model_module": "@jupyter-widgets/controls",
            "_model_module_version": "1.5.0",
            "_model_name": "FloatProgressModel",
            "_view_count": null,
            "_view_module": "@jupyter-widgets/controls",
            "_view_module_version": "1.5.0",
            "_view_name": "ProgressView",
            "bar_style": "success",
            "description": "",
            "description_tooltip": null,
            "layout": "IPY_MODEL_11ff08228eea4db2bbd0a68d89d41d6d",
            "max": 23,
            "min": 0,
            "orientation": "horizontal",
            "style": "IPY_MODEL_fd9848635a8a4ad293eeff1ca99aba09",
            "value": 23
          }
        },
        "f8a209c24a7642bdb8e781212ffe5a16": {
          "model_module": "@jupyter-widgets/controls",
          "model_name": "HTMLModel",
          "model_module_version": "1.5.0",
          "state": {
            "_dom_classes": [],
            "_model_module": "@jupyter-widgets/controls",
            "_model_module_version": "1.5.0",
            "_model_name": "HTMLModel",
            "_view_count": null,
            "_view_module": "@jupyter-widgets/controls",
            "_view_module_version": "1.5.0",
            "_view_name": "HTMLView",
            "description": "",
            "description_tooltip": null,
            "layout": "IPY_MODEL_f1d815bc06034026a348075f0b31f822",
            "placeholder": "​",
            "style": "IPY_MODEL_01b449605c9c4745acf4aaba2774ad16",
            "value": " 23/23 [00:00&lt;00:00, 244.72it/s]"
          }
        },
        "bc95f082591d459694e5fd246a5b8763": {
          "model_module": "@jupyter-widgets/base",
          "model_name": "LayoutModel",
          "model_module_version": "1.2.0",
          "state": {
            "_model_module": "@jupyter-widgets/base",
            "_model_module_version": "1.2.0",
            "_model_name": "LayoutModel",
            "_view_count": null,
            "_view_module": "@jupyter-widgets/base",
            "_view_module_version": "1.2.0",
            "_view_name": "LayoutView",
            "align_content": null,
            "align_items": null,
            "align_self": null,
            "border": null,
            "bottom": null,
            "display": null,
            "flex": null,
            "flex_flow": null,
            "grid_area": null,
            "grid_auto_columns": null,
            "grid_auto_flow": null,
            "grid_auto_rows": null,
            "grid_column": null,
            "grid_gap": null,
            "grid_row": null,
            "grid_template_areas": null,
            "grid_template_columns": null,
            "grid_template_rows": null,
            "height": null,
            "justify_content": null,
            "justify_items": null,
            "left": null,
            "margin": null,
            "max_height": null,
            "max_width": null,
            "min_height": null,
            "min_width": null,
            "object_fit": null,
            "object_position": null,
            "order": null,
            "overflow": null,
            "overflow_x": null,
            "overflow_y": null,
            "padding": null,
            "right": null,
            "top": null,
            "visibility": null,
            "width": null
          }
        },
        "d7363b257a754334b857306efb099759": {
          "model_module": "@jupyter-widgets/base",
          "model_name": "LayoutModel",
          "model_module_version": "1.2.0",
          "state": {
            "_model_module": "@jupyter-widgets/base",
            "_model_module_version": "1.2.0",
            "_model_name": "LayoutModel",
            "_view_count": null,
            "_view_module": "@jupyter-widgets/base",
            "_view_module_version": "1.2.0",
            "_view_name": "LayoutView",
            "align_content": null,
            "align_items": null,
            "align_self": null,
            "border": null,
            "bottom": null,
            "display": null,
            "flex": null,
            "flex_flow": null,
            "grid_area": null,
            "grid_auto_columns": null,
            "grid_auto_flow": null,
            "grid_auto_rows": null,
            "grid_column": null,
            "grid_gap": null,
            "grid_row": null,
            "grid_template_areas": null,
            "grid_template_columns": null,
            "grid_template_rows": null,
            "height": null,
            "justify_content": null,
            "justify_items": null,
            "left": null,
            "margin": null,
            "max_height": null,
            "max_width": null,
            "min_height": null,
            "min_width": null,
            "object_fit": null,
            "object_position": null,
            "order": null,
            "overflow": null,
            "overflow_x": null,
            "overflow_y": null,
            "padding": null,
            "right": null,
            "top": null,
            "visibility": null,
            "width": null
          }
        },
        "6df8d8f75df743c896e4a9d48676f461": {
          "model_module": "@jupyter-widgets/controls",
          "model_name": "DescriptionStyleModel",
          "model_module_version": "1.5.0",
          "state": {
            "_model_module": "@jupyter-widgets/controls",
            "_model_module_version": "1.5.0",
            "_model_name": "DescriptionStyleModel",
            "_view_count": null,
            "_view_module": "@jupyter-widgets/base",
            "_view_module_version": "1.2.0",
            "_view_name": "StyleView",
            "description_width": ""
          }
        },
        "11ff08228eea4db2bbd0a68d89d41d6d": {
          "model_module": "@jupyter-widgets/base",
          "model_name": "LayoutModel",
          "model_module_version": "1.2.0",
          "state": {
            "_model_module": "@jupyter-widgets/base",
            "_model_module_version": "1.2.0",
            "_model_name": "LayoutModel",
            "_view_count": null,
            "_view_module": "@jupyter-widgets/base",
            "_view_module_version": "1.2.0",
            "_view_name": "LayoutView",
            "align_content": null,
            "align_items": null,
            "align_self": null,
            "border": null,
            "bottom": null,
            "display": null,
            "flex": null,
            "flex_flow": null,
            "grid_area": null,
            "grid_auto_columns": null,
            "grid_auto_flow": null,
            "grid_auto_rows": null,
            "grid_column": null,
            "grid_gap": null,
            "grid_row": null,
            "grid_template_areas": null,
            "grid_template_columns": null,
            "grid_template_rows": null,
            "height": null,
            "justify_content": null,
            "justify_items": null,
            "left": null,
            "margin": null,
            "max_height": null,
            "max_width": null,
            "min_height": null,
            "min_width": null,
            "object_fit": null,
            "object_position": null,
            "order": null,
            "overflow": null,
            "overflow_x": null,
            "overflow_y": null,
            "padding": null,
            "right": null,
            "top": null,
            "visibility": null,
            "width": null
          }
        },
        "fd9848635a8a4ad293eeff1ca99aba09": {
          "model_module": "@jupyter-widgets/controls",
          "model_name": "ProgressStyleModel",
          "model_module_version": "1.5.0",
          "state": {
            "_model_module": "@jupyter-widgets/controls",
            "_model_module_version": "1.5.0",
            "_model_name": "ProgressStyleModel",
            "_view_count": null,
            "_view_module": "@jupyter-widgets/base",
            "_view_module_version": "1.2.0",
            "_view_name": "StyleView",
            "bar_color": null,
            "description_width": ""
          }
        },
        "f1d815bc06034026a348075f0b31f822": {
          "model_module": "@jupyter-widgets/base",
          "model_name": "LayoutModel",
          "model_module_version": "1.2.0",
          "state": {
            "_model_module": "@jupyter-widgets/base",
            "_model_module_version": "1.2.0",
            "_model_name": "LayoutModel",
            "_view_count": null,
            "_view_module": "@jupyter-widgets/base",
            "_view_module_version": "1.2.0",
            "_view_name": "LayoutView",
            "align_content": null,
            "align_items": null,
            "align_self": null,
            "border": null,
            "bottom": null,
            "display": null,
            "flex": null,
            "flex_flow": null,
            "grid_area": null,
            "grid_auto_columns": null,
            "grid_auto_flow": null,
            "grid_auto_rows": null,
            "grid_column": null,
            "grid_gap": null,
            "grid_row": null,
            "grid_template_areas": null,
            "grid_template_columns": null,
            "grid_template_rows": null,
            "height": null,
            "justify_content": null,
            "justify_items": null,
            "left": null,
            "margin": null,
            "max_height": null,
            "max_width": null,
            "min_height": null,
            "min_width": null,
            "object_fit": null,
            "object_position": null,
            "order": null,
            "overflow": null,
            "overflow_x": null,
            "overflow_y": null,
            "padding": null,
            "right": null,
            "top": null,
            "visibility": null,
            "width": null
          }
        },
        "01b449605c9c4745acf4aaba2774ad16": {
          "model_module": "@jupyter-widgets/controls",
          "model_name": "DescriptionStyleModel",
          "model_module_version": "1.5.0",
          "state": {
            "_model_module": "@jupyter-widgets/controls",
            "_model_module_version": "1.5.0",
            "_model_name": "DescriptionStyleModel",
            "_view_count": null,
            "_view_module": "@jupyter-widgets/base",
            "_view_module_version": "1.2.0",
            "_view_name": "StyleView",
            "description_width": ""
          }
        },
        "bcb0da8a3ec84faf92c8c83c75ecbc38": {
          "model_module": "@jupyter-widgets/controls",
          "model_name": "HBoxModel",
          "model_module_version": "1.5.0",
          "state": {
            "_dom_classes": [],
            "_model_module": "@jupyter-widgets/controls",
            "_model_module_version": "1.5.0",
            "_model_name": "HBoxModel",
            "_view_count": null,
            "_view_module": "@jupyter-widgets/controls",
            "_view_module_version": "1.5.0",
            "_view_name": "HBoxView",
            "box_style": "",
            "children": [
              "IPY_MODEL_58c7ad835ed84d59b5f4dbaab9f08973",
              "IPY_MODEL_baba72096a954f278c6fac6548a4ebd7",
              "IPY_MODEL_840942b6f1c7438283d64949575d03bd"
            ],
            "layout": "IPY_MODEL_fa0ef2a5128f48faae65035c149b11b5"
          }
        },
        "58c7ad835ed84d59b5f4dbaab9f08973": {
          "model_module": "@jupyter-widgets/controls",
          "model_name": "HTMLModel",
          "model_module_version": "1.5.0",
          "state": {
            "_dom_classes": [],
            "_model_module": "@jupyter-widgets/controls",
            "_model_module_version": "1.5.0",
            "_model_name": "HTMLModel",
            "_view_count": null,
            "_view_module": "@jupyter-widgets/controls",
            "_view_module_version": "1.5.0",
            "_view_name": "HTMLView",
            "description": "",
            "description_tooltip": null,
            "layout": "IPY_MODEL_e668ca131f404e189e97ef678d6c5adc",
            "placeholder": "​",
            "style": "IPY_MODEL_ae3c7ed73c7340e39f045c8a63d9902e",
            "value": "Generating embeddings: 100%"
          }
        },
        "baba72096a954f278c6fac6548a4ebd7": {
          "model_module": "@jupyter-widgets/controls",
          "model_name": "FloatProgressModel",
          "model_module_version": "1.5.0",
          "state": {
            "_dom_classes": [],
            "_model_module": "@jupyter-widgets/controls",
            "_model_module_version": "1.5.0",
            "_model_name": "FloatProgressModel",
            "_view_count": null,
            "_view_module": "@jupyter-widgets/controls",
            "_view_module_version": "1.5.0",
            "_view_name": "ProgressView",
            "bar_style": "success",
            "description": "",
            "description_tooltip": null,
            "layout": "IPY_MODEL_272f42fc2597413baba0b26d88407458",
            "max": 46,
            "min": 0,
            "orientation": "horizontal",
            "style": "IPY_MODEL_0f0639edb9004b40a9c195ce52e91767",
            "value": 46
          }
        },
        "840942b6f1c7438283d64949575d03bd": {
          "model_module": "@jupyter-widgets/controls",
          "model_name": "HTMLModel",
          "model_module_version": "1.5.0",
          "state": {
            "_dom_classes": [],
            "_model_module": "@jupyter-widgets/controls",
            "_model_module_version": "1.5.0",
            "_model_name": "HTMLModel",
            "_view_count": null,
            "_view_module": "@jupyter-widgets/controls",
            "_view_module_version": "1.5.0",
            "_view_name": "HTMLView",
            "description": "",
            "description_tooltip": null,
            "layout": "IPY_MODEL_8d0e83642bdf4be2a211ad4f128a7a92",
            "placeholder": "​",
            "style": "IPY_MODEL_8bfe45594aaa48fc9a17be4f5f4902f7",
            "value": " 46/46 [00:16&lt;00:00,  2.82it/s]"
          }
        },
        "fa0ef2a5128f48faae65035c149b11b5": {
          "model_module": "@jupyter-widgets/base",
          "model_name": "LayoutModel",
          "model_module_version": "1.2.0",
          "state": {
            "_model_module": "@jupyter-widgets/base",
            "_model_module_version": "1.2.0",
            "_model_name": "LayoutModel",
            "_view_count": null,
            "_view_module": "@jupyter-widgets/base",
            "_view_module_version": "1.2.0",
            "_view_name": "LayoutView",
            "align_content": null,
            "align_items": null,
            "align_self": null,
            "border": null,
            "bottom": null,
            "display": null,
            "flex": null,
            "flex_flow": null,
            "grid_area": null,
            "grid_auto_columns": null,
            "grid_auto_flow": null,
            "grid_auto_rows": null,
            "grid_column": null,
            "grid_gap": null,
            "grid_row": null,
            "grid_template_areas": null,
            "grid_template_columns": null,
            "grid_template_rows": null,
            "height": null,
            "justify_content": null,
            "justify_items": null,
            "left": null,
            "margin": null,
            "max_height": null,
            "max_width": null,
            "min_height": null,
            "min_width": null,
            "object_fit": null,
            "object_position": null,
            "order": null,
            "overflow": null,
            "overflow_x": null,
            "overflow_y": null,
            "padding": null,
            "right": null,
            "top": null,
            "visibility": null,
            "width": null
          }
        },
        "e668ca131f404e189e97ef678d6c5adc": {
          "model_module": "@jupyter-widgets/base",
          "model_name": "LayoutModel",
          "model_module_version": "1.2.0",
          "state": {
            "_model_module": "@jupyter-widgets/base",
            "_model_module_version": "1.2.0",
            "_model_name": "LayoutModel",
            "_view_count": null,
            "_view_module": "@jupyter-widgets/base",
            "_view_module_version": "1.2.0",
            "_view_name": "LayoutView",
            "align_content": null,
            "align_items": null,
            "align_self": null,
            "border": null,
            "bottom": null,
            "display": null,
            "flex": null,
            "flex_flow": null,
            "grid_area": null,
            "grid_auto_columns": null,
            "grid_auto_flow": null,
            "grid_auto_rows": null,
            "grid_column": null,
            "grid_gap": null,
            "grid_row": null,
            "grid_template_areas": null,
            "grid_template_columns": null,
            "grid_template_rows": null,
            "height": null,
            "justify_content": null,
            "justify_items": null,
            "left": null,
            "margin": null,
            "max_height": null,
            "max_width": null,
            "min_height": null,
            "min_width": null,
            "object_fit": null,
            "object_position": null,
            "order": null,
            "overflow": null,
            "overflow_x": null,
            "overflow_y": null,
            "padding": null,
            "right": null,
            "top": null,
            "visibility": null,
            "width": null
          }
        },
        "ae3c7ed73c7340e39f045c8a63d9902e": {
          "model_module": "@jupyter-widgets/controls",
          "model_name": "DescriptionStyleModel",
          "model_module_version": "1.5.0",
          "state": {
            "_model_module": "@jupyter-widgets/controls",
            "_model_module_version": "1.5.0",
            "_model_name": "DescriptionStyleModel",
            "_view_count": null,
            "_view_module": "@jupyter-widgets/base",
            "_view_module_version": "1.2.0",
            "_view_name": "StyleView",
            "description_width": ""
          }
        },
        "272f42fc2597413baba0b26d88407458": {
          "model_module": "@jupyter-widgets/base",
          "model_name": "LayoutModel",
          "model_module_version": "1.2.0",
          "state": {
            "_model_module": "@jupyter-widgets/base",
            "_model_module_version": "1.2.0",
            "_model_name": "LayoutModel",
            "_view_count": null,
            "_view_module": "@jupyter-widgets/base",
            "_view_module_version": "1.2.0",
            "_view_name": "LayoutView",
            "align_content": null,
            "align_items": null,
            "align_self": null,
            "border": null,
            "bottom": null,
            "display": null,
            "flex": null,
            "flex_flow": null,
            "grid_area": null,
            "grid_auto_columns": null,
            "grid_auto_flow": null,
            "grid_auto_rows": null,
            "grid_column": null,
            "grid_gap": null,
            "grid_row": null,
            "grid_template_areas": null,
            "grid_template_columns": null,
            "grid_template_rows": null,
            "height": null,
            "justify_content": null,
            "justify_items": null,
            "left": null,
            "margin": null,
            "max_height": null,
            "max_width": null,
            "min_height": null,
            "min_width": null,
            "object_fit": null,
            "object_position": null,
            "order": null,
            "overflow": null,
            "overflow_x": null,
            "overflow_y": null,
            "padding": null,
            "right": null,
            "top": null,
            "visibility": null,
            "width": null
          }
        },
        "0f0639edb9004b40a9c195ce52e91767": {
          "model_module": "@jupyter-widgets/controls",
          "model_name": "ProgressStyleModel",
          "model_module_version": "1.5.0",
          "state": {
            "_model_module": "@jupyter-widgets/controls",
            "_model_module_version": "1.5.0",
            "_model_name": "ProgressStyleModel",
            "_view_count": null,
            "_view_module": "@jupyter-widgets/base",
            "_view_module_version": "1.2.0",
            "_view_name": "StyleView",
            "bar_color": null,
            "description_width": ""
          }
        },
        "8d0e83642bdf4be2a211ad4f128a7a92": {
          "model_module": "@jupyter-widgets/base",
          "model_name": "LayoutModel",
          "model_module_version": "1.2.0",
          "state": {
            "_model_module": "@jupyter-widgets/base",
            "_model_module_version": "1.2.0",
            "_model_name": "LayoutModel",
            "_view_count": null,
            "_view_module": "@jupyter-widgets/base",
            "_view_module_version": "1.2.0",
            "_view_name": "LayoutView",
            "align_content": null,
            "align_items": null,
            "align_self": null,
            "border": null,
            "bottom": null,
            "display": null,
            "flex": null,
            "flex_flow": null,
            "grid_area": null,
            "grid_auto_columns": null,
            "grid_auto_flow": null,
            "grid_auto_rows": null,
            "grid_column": null,
            "grid_gap": null,
            "grid_row": null,
            "grid_template_areas": null,
            "grid_template_columns": null,
            "grid_template_rows": null,
            "height": null,
            "justify_content": null,
            "justify_items": null,
            "left": null,
            "margin": null,
            "max_height": null,
            "max_width": null,
            "min_height": null,
            "min_width": null,
            "object_fit": null,
            "object_position": null,
            "order": null,
            "overflow": null,
            "overflow_x": null,
            "overflow_y": null,
            "padding": null,
            "right": null,
            "top": null,
            "visibility": null,
            "width": null
          }
        },
        "8bfe45594aaa48fc9a17be4f5f4902f7": {
          "model_module": "@jupyter-widgets/controls",
          "model_name": "DescriptionStyleModel",
          "model_module_version": "1.5.0",
          "state": {
            "_model_module": "@jupyter-widgets/controls",
            "_model_module_version": "1.5.0",
            "_model_name": "DescriptionStyleModel",
            "_view_count": null,
            "_view_module": "@jupyter-widgets/base",
            "_view_module_version": "1.2.0",
            "_view_name": "StyleView",
            "description_width": ""
          }
        }
      }
    }
  },
  "nbformat": 4,
  "nbformat_minor": 0
}